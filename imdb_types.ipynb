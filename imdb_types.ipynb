{
 "cells": [
  {
   "cell_type": "code",
   "execution_count": 1,
   "metadata": {},
   "outputs": [],
   "source": [
    "import requests\n",
    "from bs4 import BeautifulSoup as bs\n",
    "from bs4 import BeautifulSoup, NavigableString, Tag\n",
    "\n",
    "def scrape_and_parse(url):\n",
    "    headers = {\n",
    "        'User-Agent': 'Mozilla/5.0 Gecko/20100101 Firefox/109.0',\n",
    "        'Accept-Encoding': 'gzip, deflate, br'\n",
    "\n",
    "    }\n",
    "    html = requests.get(url , headers = headers)\n",
    "\n",
    "    if html.status_code!=200:\n",
    "        print('wrong'+url)\n",
    "        return 'error'\n",
    "    return bs(html.text, 'html.parser')"
   ]
  },
  {
   "cell_type": "code",
   "execution_count": 2,
   "metadata": {},
   "outputs": [],
   "source": [
    "def get_show_info(link):\n",
    "    url = 'https://www.imdb.com/title/'+link\n",
    "    soup = scrape_and_parse(url)\n",
    "    sum_url = url+'/plotsummary'\n",
    "    sum_soup = scrape_and_parse(sum_url)\n",
    "\n",
    "    section_class = ['div', 'ipc-chip-list--baseAlt ipc-chip-list']\n",
    "    type_class = ['span', 'ipc-chip__text']\n",
    "\n",
    "    summ_class = ['div', 'data-testid', 'sub-section-summaries']\n",
    "    content_class = ['li','role', 'presentation']\n",
    "    \n",
    "    show_info = []\n",
    "\n",
    "    types=[]\n",
    "\n",
    "    section = soup.find(section_class[0], class_=section_class[1])\n",
    "    types_soup = section.find_all(type_class[0], class_=type_class[1])\n",
    "    for each in types_soup:\n",
    "        types.append(each.get_text())\n",
    "    \n",
    "    summ = sum_soup.find(summ_class[0], {summ_class[1]: summ_class[2]})\n",
    "    content = summ.find(content_class[0], {content_class[1]: content_class[2]}).get_text()\n",
    "    show_info = [link, types, content]\n",
    "    return show_info"
   ]
  },
  {
   "cell_type": "code",
   "execution_count": 3,
   "metadata": {},
   "outputs": [],
   "source": [
    "import pandas as pd\n",
    "\n",
    "links = pd.read_csv('l100.csv')['link']\n",
    "infos = []\n",
    "for link in links:\n",
    "    l = get_show_info(link)\n",
    "    infos.append(l)"
   ]
  },
  {
   "cell_type": "code",
   "execution_count": 6,
   "metadata": {},
   "outputs": [
    {
     "data": {
      "text/html": [
       "<div>\n",
       "<style scoped>\n",
       "    .dataframe tbody tr th:only-of-type {\n",
       "        vertical-align: middle;\n",
       "    }\n",
       "\n",
       "    .dataframe tbody tr th {\n",
       "        vertical-align: top;\n",
       "    }\n",
       "\n",
       "    .dataframe thead th {\n",
       "        text-align: right;\n",
       "    }\n",
       "</style>\n",
       "<table border=\"1\" class=\"dataframe\">\n",
       "  <thead>\n",
       "    <tr style=\"text-align: right;\">\n",
       "      <th></th>\n",
       "      <th>link</th>\n",
       "      <th>types</th>\n",
       "      <th>summary</th>\n",
       "    </tr>\n",
       "  </thead>\n",
       "  <tbody>\n",
       "  </tbody>\n",
       "</table>\n",
       "</div>"
      ],
      "text/plain": [
       "Empty DataFrame\n",
       "Columns: [link, types, summary]\n",
       "Index: []"
      ]
     },
     "execution_count": 6,
     "metadata": {},
     "output_type": "execute_result"
    }
   ],
   "source": [
    "movie_info = pd.DataFrame(columns=['link', 'types', 'summary'])\n",
    "movie_info.head()"
   ]
  },
  {
   "cell_type": "code",
   "execution_count": 12,
   "metadata": {},
   "outputs": [],
   "source": [
    "for i in range(0, 100):\n",
    "    movie_info.loc[i, 'link'] = infos[i][0]\n",
    "    movie_info.loc[i, 'types'] = infos[i][1]\n",
    "    movie_info.loc[i, 'summary'] = infos[i][2]"
   ]
  },
  {
   "cell_type": "code",
   "execution_count": 13,
   "metadata": {},
   "outputs": [],
   "source": [
    "movie_info.to_csv('worst_info.csv')"
   ]
  }
 ],
 "metadata": {
  "kernelspec": {
   "display_name": "Python 3",
   "language": "python",
   "name": "python3"
  },
  "language_info": {
   "codemirror_mode": {
    "name": "ipython",
    "version": 3
   },
   "file_extension": ".py",
   "mimetype": "text/x-python",
   "name": "python",
   "nbconvert_exporter": "python",
   "pygments_lexer": "ipython3",
   "version": "3.12.3"
  }
 },
 "nbformat": 4,
 "nbformat_minor": 2
}
