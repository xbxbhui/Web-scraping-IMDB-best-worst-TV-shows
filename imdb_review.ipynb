{
 "cells": [
  {
   "cell_type": "code",
   "execution_count": 62,
   "metadata": {},
   "outputs": [],
   "source": [
    "import requests\n",
    "from bs4 import BeautifulSoup as bs\n",
    "\n",
    "def scrape_and_parse(url):\n",
    "    headers = {\n",
    "        'User-Agent': 'Mozilla/5.0 (Macintosh; Intel Mac OS X 10.15; rv:109.0) Gecko/20100101 Firefox/109.0',\n",
    "        'Accept-Encoding': 'gzip, deflate, br'\n",
    "\n",
    "    }\n",
    "    html = requests.get(url , headers = headers)\n",
    "\n",
    "    if html.status_code!=200:\n",
    "        print('wrong'+url)\n",
    "        return 'error'\n",
    "    return bs(html.text, 'html.parser')"
   ]
  },
  {
   "cell_type": "code",
   "execution_count": 63,
   "metadata": {},
   "outputs": [],
   "source": [
    "def next_page(link, soup):#翻页，返回值为下一页的soup\n",
    "    try:\n",
    "        key_class = ['div', 'load-more-data']\n",
    "        key = soup.find(key_class[0], class_ = key_class[1])\n",
    "        key = key.attrs['data-key']\n",
    "        url_new = 'https://www.imdb.com/title/'+link+'/reviews/_ajax?ref_=undefined&paginationKey='+key\n",
    "    except:\n",
    "        return -1#到最后一页返回-1\n",
    "    return scrape_and_parse(url_new)"
   ]
  },
  {
   "cell_type": "code",
   "execution_count": 64,
   "metadata": {},
   "outputs": [],
   "source": [
    "def get_all_reviews(link):\n",
    "    url = 'https://www.imdb.com/title/'+link+'/reviews'\n",
    "    soup = scrape_and_parse(url)\n",
    "\n",
    "    review_class = ['div', 'lister-item-content']\n",
    "    title_class = ['a', 'title']\n",
    "    content_class = ['div', 'text show-more__control']\n",
    "    rating_class = ['span', 'rating-other-user-rating']\n",
    "\n",
    "    each_movie_review = []\n",
    "\n",
    "    for i in range(0, 5):\n",
    "        \n",
    "        if soup!=-1:\n",
    "            each_soup_info = []\n",
    "            reviews = soup.find_all(review_class[0], class_ = review_class[1])\n",
    "            for each in reviews:\n",
    "                title = each.find(title_class[0], class_ = title_class[1]).get_text()\n",
    "                content = each.find(content_class[0], class_=content_class[1]).get_text()\n",
    "\n",
    "                try:\n",
    "                    rating = each.find(rating_class[0], class_=rating_class[1]).get_text().strip()\n",
    "                except:\n",
    "                    rating = 'null'\n",
    "\n",
    "                each_info = [link, rating, title, content]\n",
    "                each_soup_info.append(each_info)\n",
    "                \n",
    "            each_movie_review += each_soup_info\n",
    "            soup=next_page(link, soup)\n",
    "        else:\n",
    "            break\n",
    "    return each_movie_review"
   ]
  },
  {
   "cell_type": "code",
   "execution_count": 65,
   "metadata": {},
   "outputs": [
    {
     "name": "stdout",
     "output_type": "stream",
     "text": [
      "== 0 ==\n",
      "== 25 ==\n",
      "2168\n"
     ]
    }
   ],
   "source": [
    "import pandas as pd\n",
    "#尝试，无问题\n",
    "links = pd.read_csv('l100.csv')['link']\n",
    "all_rev = []\n",
    "for i in range(0, 50):\n",
    "    if i%25==0:\n",
    "        print('==',i,'==')\n",
    "    link = links[i]\n",
    "    link = \"\".join(filter(str.isalnum, link))\n",
    "\n",
    "    new_rev = get_all_reviews(link)\n",
    "    all_rev += new_rev\n",
    "print(len(all_rev))"
   ]
  },
  {
   "cell_type": "code",
   "execution_count": 66,
   "metadata": {},
   "outputs": [
    {
     "name": "stdout",
     "output_type": "stream",
     "text": [
      "['tt0446224', 'null', ' very very boring and stupid show\\n', \"So,this is the one of the newest and popular Hungarian TV series? I don't think so.This show is a very good example for the Hungarian TV series.Make lot of money from something.Write an amateur story,choose some unskillful characters,and lets go:cut!Unbelievable that this type of shows(Baratok Kozt too)able to survive so many years.It's ridiculous.This show that majority of the Hungarian audience is hopeful,and in this way they are staying alive these series. It was the first comment of this show,but i think there are more people who have a same opinion like me.At the end I just want to say that,go-go Hungarian producers and writers this will be better!\"]\n"
     ]
    }
   ],
   "source": [
    "print(all_rev[1])"
   ]
  },
  {
   "cell_type": "code",
   "execution_count": 67,
   "metadata": {},
   "outputs": [
    {
     "name": "stdout",
     "output_type": "stream",
     "text": [
      "== 50 ==\n",
      "== 75 ==\n",
      "4919\n"
     ]
    }
   ],
   "source": [
    "for i in range(50, 100):\n",
    "    if i%25==0:\n",
    "        print('==',i,'==')\n",
    "    link = links[i]\n",
    "    link = \"\".join(filter(str.isalnum, link))\n",
    "\n",
    "    new_rev = get_all_reviews(link)\n",
    "    all_rev += new_rev\n",
    "print(len(all_rev))"
   ]
  },
  {
   "cell_type": "code",
   "execution_count": 68,
   "metadata": {},
   "outputs": [],
   "source": [
    "all_reviews = pd.DataFrame(all_rev, columns=['link','rating', 'title', 'content'])\n",
    "all_reviews.to_csv('worst_reviews.csv')"
   ]
  },
  {
   "cell_type": "code",
   "execution_count": 69,
   "metadata": {},
   "outputs": [
    {
     "data": {
      "text/plain": [
       "link       title                                              \n",
       "tt0081857  ET needs some new stories!\\n                           1\n",
       "           ET treated Jack Hanna like a nobody.\\n                 1\n",
       "           First Entertainment Show and Probably the Best!!!\\n    1\n",
       "           Going downhill\\n                                       1\n",
       "           Good entertainment news show\\n                         1\n",
       "                                                                 ..\n",
       "tt8923396  very bad !\\n                                           1\n",
       "           waste of a good story, terrible dialogue\\n             1\n",
       "           worst series ever\\n                                    1\n",
       "           worst tv show ive ever seen !!!!\\n                     1\n",
       "           😑😑😑😑\\n                                                 1\n",
       "Length: 4885, dtype: int64"
      ]
     },
     "execution_count": 69,
     "metadata": {},
     "output_type": "execute_result"
    }
   ],
   "source": [
    "rep = all_reviews.groupby(['link', 'title']).size()\n",
    "rep\n",
    "#无重复"
   ]
  }
 ],
 "metadata": {
  "kernelspec": {
   "display_name": "Python 3",
   "language": "python",
   "name": "python3"
  },
  "language_info": {
   "codemirror_mode": {
    "name": "ipython",
    "version": 3
   },
   "file_extension": ".py",
   "mimetype": "text/x-python",
   "name": "python",
   "nbconvert_exporter": "python",
   "pygments_lexer": "ipython3",
   "version": "3.12.3"
  }
 },
 "nbformat": 4,
 "nbformat_minor": 2
}
