{
 "cells": [
  {
   "cell_type": "code",
   "execution_count": 1,
   "metadata": {},
   "outputs": [],
   "source": [
    "import re\n",
    "import requests\n",
    "from bs4 import BeautifulSoup as bs\n",
    "from requests.exceptions import RequestException"
   ]
  },
  {
   "cell_type": "code",
   "execution_count": 2,
   "metadata": {},
   "outputs": [
    {
     "name": "stdout",
     "output_type": "stream",
     "text": [
      "succeeded\n"
     ]
    }
   ],
   "source": [
    "url = 'https://www.imdb.com/chart/toptv/?ref_=nv_tvv_250'\n",
    "headers = {\n",
    "    'User-Agent': 'Mozilla/5.0 (Windows NT 10.0; Win64; x64) AppleWebKit/537.36 (KHTML, like Gecko) Chrome/105.0.0.0 Safari/537.36'\n",
    "}\n",
    "html = requests.get( url , headers = headers)\n",
    "if html.status_code==200:\n",
    "        #判断请求是否成功\n",
    "    print('succeeded')\n",
    "else:\n",
    "    print('wrong')"
   ]
  },
  {
   "cell_type": "code",
   "execution_count": 3,
   "metadata": {},
   "outputs": [],
   "source": [
    "soup = bs(html.text, 'html.parser')"
   ]
  },
  {
   "cell_type": "code",
   "execution_count": 6,
   "metadata": {},
   "outputs": [
    {
     "name": "stdout",
     "output_type": "stream",
     "text": [
      "['Breaking Bad', '2008–2013', '62 eps', 'MA15+', '9.5', 'tt0903747']\n"
     ]
    }
   ],
   "source": [
    "class_movie = 'ipc-metadata-list-summary-item sc-10233bc-0 iherUv cli-parent'\n",
    "class_movie = ['li', class_movie]\n",
    "class_title = 'ipc-title__text'\n",
    "class_title = ['h3', class_title]\n",
    "class_detail = 'sc-b189961a-8 kLaxqf cli-title-metadata-item'\n",
    "class_detail = ['span', class_detail]\n",
    "class_rating = 'ipc-rating-star ipc-rating-star--base ipc-rating-star--imdb ratingGroup--imdb-rating'\n",
    "class_rating = ['span', class_rating]\n",
    "class_link = 'ipc-title-link-wrapper'\n",
    "class_link = ['a', class_link]\n",
    "\n",
    "\n",
    "movies = soup.find_all(class_movie[0], {'class': class_movie[1]})\n",
    "\n",
    "info_list = []\n",
    "for each in movies:\n",
    "    each_info = []\n",
    "\n",
    "    title = each.find(class_title[0], class_ = class_title[1]).string\n",
    "    index = title.find('. ')+2\n",
    "    each_info += [title[index:]]\n",
    "\n",
    "    details = each.find_all(class_detail[0], class_ = class_detail[1])\n",
    "    for d in details:\n",
    "        each_info += [d.string]\n",
    "    rating = each.find(class_rating[0], class_ = class_rating[1]).attrs['aria-label']\n",
    "    each_info += [rating[-3:]]\n",
    "    link = each.find(class_link[0], class_ = class_link).attrs['href']\n",
    "    index1 = link.find('/tt')\n",
    "    index2 = link.find('/?')\n",
    "    link = link[index1+1:index2]\n",
    "    each_info += [link]\n",
    "\n",
    "    info_list.append(each_info)\n",
    "    \n",
    "    #返回节点中评分的属性\n",
    "    #print(title, rating, details)\n",
    "    #info = info + [[title, detail, rating]]\n",
    "    \n",
    "print(info_list[0])\n",
    "#排名页爬完了\n",
    "#https://www.imdb.com/title/tt0903747/reviews/?ref_=tt_ov_rt\n",
    "#转换成评论页面链接"
   ]
  },
  {
   "cell_type": "code",
   "execution_count": 14,
   "metadata": {},
   "outputs": [],
   "source": [
    "for i in info_list:\n",
    "    if len(i) < 6:\n",
    "        i.insert(3, 'None')"
   ]
  },
  {
   "cell_type": "code",
   "execution_count": 15,
   "metadata": {},
   "outputs": [
    {
     "name": "stdout",
     "output_type": "stream",
     "text": [
      "              title       year eps age_res rating       link\n",
      "0      Breaking Bad  2008–2013  62   MA15+    9.5  tt0903747\n",
      "1   Planet Earth II       2016   6      PG    9.5  tt5491994\n",
      "2      Planet Earth       2006  11      PG    9.4  tt0795176\n",
      "3  Band of Brothers       2001  10       M    9.4  tt0185906\n",
      "4         Chernobyl       2019   5   MA15+    9.3  tt7366338\n"
     ]
    }
   ],
   "source": [
    "import pandas as pd\n",
    "t250 = pd.DataFrame(info_list, columns=['title', 'year', 'eps', 'age_res', 'rating', 'link'])\n",
    "\n",
    "eps = t250['eps']\n",
    "eps_new = []\n",
    "for i in range(0,250):\n",
    "    eps_new.append(eps[i][:-4])\n",
    "t250['eps'] = eps_new\n",
    "\n",
    "print(t250.head())\n",
    "t250.to_csv('t250.csv')"
   ]
  }
 ],
 "metadata": {
  "kernelspec": {
   "display_name": "Python 3",
   "language": "python",
   "name": "python3"
  },
  "language_info": {
   "codemirror_mode": {
    "name": "ipython",
    "version": 3
   },
   "file_extension": ".py",
   "mimetype": "text/x-python",
   "name": "python",
   "nbconvert_exporter": "python",
   "pygments_lexer": "ipython3",
   "version": "3.12.3"
  }
 },
 "nbformat": 4,
 "nbformat_minor": 2
}
